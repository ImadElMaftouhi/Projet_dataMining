{
 "cells": [
  {
   "cell_type": "markdown",
   "id": "8cbf253f-dd8e-43b6-8b8f-2ea7a1ee062e",
   "metadata": {},
   "source": [
    "<h1 style=\"border: 1px solid black; border-radius: 20px; text-align: center; padding : 10px;\">\n",
    "    \n",
    "    Élégance et Stratégie : Maximiser les Conversions de Clients Passifs en Prêts Personnels\n",
    "\n",
    "</h1>\n"
   ]
  },
  {
   "cell_type": "markdown",
   "id": "bd29bcac-079f-47c8-ad5d-d918a2dacf07",
   "metadata": {
    "tags": []
   },
   "source": [
    "# Context "
   ]
  },
  {
   "cell_type": "markdown",
   "id": "0c23f55c-6a32-415a-bf70-7996f0c189fd",
   "metadata": {},
   "source": [
    "Ce dossier concerne une banque (Thera Bank) qui possède une clientèle croissante. La majorité de ces clients sont des clients passifs (déposants) avec des montants de dépôts variables. Le nombre de clients emprunteurs (actifs) est assez faible, et la banque souhaite développer cette base rapidement pour attirer plus d'activités de prêt et ainsi, générer davantage de revenus grâce aux intérêts sur les prêts. En particulier, la direction souhaite explorer des moyens de convertir ses clients passifs en clients de prêts personnels (tout en les conservant en tant que déposants). Une campagne menée par la banque l'année dernière auprès des clients passifs a montré un taux de conversion sain de plus de 9% de réussite. Cela a encouragé le département du marketing de détail à concevoir des campagnes pour cibler mieux le marketing afin d'augmenter le taux de réussite avec un budget minimal.\n",
    "\n",
    "Le département souhaite construire un modèle qui les aidera à identifier les clients potentiels ayant une probabilité plus élevée d'acheter le prêt. Cela augmentera le taux de réussite tout en réduisant le coût de la campagne.\n",
    "\n",
    "dataset source : https://www.kaggle.com/datasets/itsmesunil/bank-loan-modelling"
   ]
  },
  {
   "cell_type": "markdown",
   "id": "18ddc8f8-ba21-41c0-acac-a2c0d81acfcb",
   "metadata": {
    "tags": []
   },
   "source": [
    "# 1 Importation"
   ]
  },
  {
   "cell_type": "code",
   "execution_count": 1,
   "id": "7671369a-b883-45e6-8e08-ccd680eddde1",
   "metadata": {},
   "outputs": [],
   "source": [
    "## 1.1 Importation des bibliotheques"
   ]
  },
  {
   "cell_type": "code",
   "execution_count": 2,
   "id": "c4587163-bec8-46be-bfc5-347a542835d5",
   "metadata": {
    "tags": []
   },
   "outputs": [],
   "source": [
    "import pandas as pd\n",
    "import numpy as np\n",
    "import seaborn as sns\n",
    "import matplotlib.pyplot as plt\n",
    "import warnings\n",
    "warnings.filterwarnings('ignore')"
   ]
  },
  {
   "cell_type": "code",
   "execution_count": 3,
   "id": "156f82fb-8f27-4525-b97b-b53f7fef9c31",
   "metadata": {
    "tags": []
   },
   "outputs": [
    {
     "name": "stdout",
     "output_type": "stream",
     "text": [
      "Pandas version:  2.0.3\n",
      "NumPy version:  1.24.3\n",
      "Seaborn version: 0.12.2\n",
      "Matplotlib version:  3.7.2\n"
     ]
    }
   ],
   "source": [
    "# On verifier que les bibliotheques sont importes\n",
    "print('Pandas version: ',pd.__version__)\n",
    "print('NumPy version: ',np.__version__)\n",
    "print(\"Seaborn version:\", sns.__version__)\n",
    "print(\"Matplotlib version: \", plt.matplotlib.__version__)\n"
   ]
  },
  {
   "cell_type": "markdown",
   "id": "a6b2f9fd-cc3c-4cdb-8751-7ea4917600b0",
   "metadata": {},
   "source": [
    "## 1.2 Importation des donnees "
   ]
  },
  {
   "cell_type": "code",
   "execution_count": 4,
   "id": "997350bd-09cc-41d8-9a14-9297b9ebdb09",
   "metadata": {
    "tags": []
   },
   "outputs": [],
   "source": [
    "df = pd.read_csv('bank_personal_loan.csv', delimiter=';')"
   ]
  },
  {
   "cell_type": "code",
   "execution_count": 5,
   "id": "64629fb6-c245-4b93-b892-1e7c5f4ea965",
   "metadata": {
    "tags": []
   },
   "outputs": [
    {
     "data": {
      "text/html": [
       "<div>\n",
       "<style scoped>\n",
       "    .dataframe tbody tr th:only-of-type {\n",
       "        vertical-align: middle;\n",
       "    }\n",
       "\n",
       "    .dataframe tbody tr th {\n",
       "        vertical-align: top;\n",
       "    }\n",
       "\n",
       "    .dataframe thead th {\n",
       "        text-align: right;\n",
       "    }\n",
       "</style>\n",
       "<table border=\"1\" class=\"dataframe\">\n",
       "  <thead>\n",
       "    <tr style=\"text-align: right;\">\n",
       "      <th></th>\n",
       "      <th>ID</th>\n",
       "      <th>Age</th>\n",
       "      <th>Experience</th>\n",
       "      <th>Income</th>\n",
       "      <th>ZIP Code</th>\n",
       "      <th>Family</th>\n",
       "      <th>CCAvg</th>\n",
       "      <th>Education</th>\n",
       "      <th>Mortgage</th>\n",
       "      <th>Personal Loan</th>\n",
       "      <th>Securities Account</th>\n",
       "      <th>CD Account</th>\n",
       "      <th>Online</th>\n",
       "      <th>CreditCard</th>\n",
       "    </tr>\n",
       "  </thead>\n",
       "  <tbody>\n",
       "    <tr>\n",
       "      <th>304</th>\n",
       "      <td>305</td>\n",
       "      <td>48</td>\n",
       "      <td>23</td>\n",
       "      <td>22</td>\n",
       "      <td>90740</td>\n",
       "      <td>1</td>\n",
       "      <td>0.1</td>\n",
       "      <td>1</td>\n",
       "      <td>0</td>\n",
       "      <td>0</td>\n",
       "      <td>0</td>\n",
       "      <td>0</td>\n",
       "      <td>0</td>\n",
       "      <td>0</td>\n",
       "    </tr>\n",
       "  </tbody>\n",
       "</table>\n",
       "</div>"
      ],
      "text/plain": [
       "      ID  Age  Experience  Income  ZIP Code  Family  CCAvg  Education  \\\n",
       "304  305   48          23      22     90740       1    0.1          1   \n",
       "\n",
       "     Mortgage  Personal Loan  Securities Account  CD Account  Online  \\\n",
       "304         0              0                   0           0       0   \n",
       "\n",
       "     CreditCard  \n",
       "304           0  "
      ]
     },
     "execution_count": 5,
     "metadata": {},
     "output_type": "execute_result"
    }
   ],
   "source": [
    "df.sample()"
   ]
  },
  {
   "cell_type": "markdown",
   "id": "806c0961-175d-4ea5-b244-c0e7c0968a25",
   "metadata": {
    "tags": []
   },
   "source": [
    "## 1.3 Dictionnaire de dataset"
   ]
  },
  {
   "cell_type": "markdown",
   "id": "50480097-13c4-4224-8a36-43eb971229f4",
   "metadata": {},
   "source": [
    "- **Customer ID** : Numéro d'identification unique attribué à chaque client.\n",
    "- **Age** : Âge du client en années complètes.\n",
    "- **Experience** : Nombre d'années d'expérience professionnelle.\n",
    "- **Income** : Revenu annuel du client en milliers de dollars.\n",
    "- **ZIPCode** : Code postal de l'adresse domicile du client.\n",
    "- **Family** : Nombre de membres dans la famille du client.\n",
    "- **CCAvg** : Dépense mensuelle moyenne sur les cartes de crédit en milliers de dollars.\n",
    "- **Education** : Niveau d'éducation atteint par le client. (1 : Licence ; 2 : Diplômé ; 3 : Avancé/Professionnel)\n",
    "- **Mortgage** : Valeur de l'hypothèque de la maison du client, le cas échéant, en milliers de dollars.\n",
    "- **Personal Loan** : Indique si le client a accepté le prêt personnel proposé lors de la dernière campagne. (Oui/Non)\n",
    "- **Securities Account** : Indique si le client possède un compte de valeurs mobilières auprès de la banque. (Oui/Non)\n",
    "- **CD Account** : Indique si le client possède un compte de dépôt à terme (CD) auprès de la banque. (Oui/Non)\n",
    "- **Online** : Indique si le client utilise les services de banque en ligne. (Oui/Non)\n",
    "- **CreditCard** : Indique si le client utilise une carte de crédit émise par UniversalBank. (Oui/Non)"
   ]
  },
  {
   "cell_type": "markdown",
   "id": "64cf8ae4-4473-49b5-b2b2-fe13af9bcaba",
   "metadata": {
    "tags": []
   },
   "source": [
    "## 1.4 Parametres global"
   ]
  },
  {
   "cell_type": "code",
   "execution_count": 6,
   "id": "697a89c7-e238-4ede-bc8f-8f5e79c04707",
   "metadata": {},
   "outputs": [],
   "source": [
    "pd.set_option('display.max_rows', 100)\n",
    "pd.set_option('display.max_columns', 100)\n",
    "palettes = ['viridis', 'magma', 'plasma', 'inferno', 'twilight', 'twilight_shifted', 'cool', 'coolwarm', 'cividis', 'spring',\n",
    "            'summer', 'autumn', 'winter', 'bone', 'copper', 'pink', 'spring_r', 'summer_r', 'autumn_r', 'winter_r',\n",
    "            'PuBu', 'PuBuGn', 'BuPu', 'RdPu', 'PuRd', 'Oranges', 'YlOrBr', 'YlOrRd', 'OrRd', 'RdOrYl', 'YlGn', 'YlGnBu',\n",
    "            'GnBu', 'BuGn', 'PuOr', 'BrBG', 'PRGn', 'PiYG', 'RdGy', 'RdBu', 'RdYlBu', 'RdYlGn', 'Spectral', 'cubehelix',\n",
    "            'husl', 'husl_r', 'hls', 'hls_r', 'gist_ncar', 'gist_ncar_r']\n",
    "colors = ['#003049', '#D62828', '#F77F00', '#FCBF49', '#EAE2B7']"
   ]
  },
  {
   "cell_type": "markdown",
   "id": "adfc7da2-848f-46f1-96a1-79d16d3d7057",
   "metadata": {
    "jp-MarkdownHeadingCollapsed": true,
    "tags": []
   },
   "source": [
    "# 2. Etude des donnees "
   ]
  },
  {
   "cell_type": "markdown",
   "id": "61171fe5-292d-4da0-b3fa-cff48199aa5f",
   "metadata": {},
   "source": [
    "## 2.1 df.head(), df.tail() et df.sample()"
   ]
  },
  {
   "cell_type": "markdown",
   "id": "1b2f3dd9-7462-4d7c-897e-7d5e8080f2c4",
   "metadata": {},
   "source": [
    "La commande df.head() permet de recuperer par default les 5 premiers lignes, si on veut recuperer les n derniers lignes, on utilise la commande df.tail(n) \n",
    "\n",
    "La commande sample() permet de recuperer par default un example aleatoire de notre dataset, on peut aussi specifier le nombre des observations a recuperer "
   ]
  },
  {
   "cell_type": "code",
   "execution_count": 7,
   "id": "14b0b209-740a-4890-9ca2-b32636b9ddc2",
   "metadata": {
    "tags": []
   },
   "outputs": [
    {
     "data": {
      "text/html": [
       "<div>\n",
       "<style scoped>\n",
       "    .dataframe tbody tr th:only-of-type {\n",
       "        vertical-align: middle;\n",
       "    }\n",
       "\n",
       "    .dataframe tbody tr th {\n",
       "        vertical-align: top;\n",
       "    }\n",
       "\n",
       "    .dataframe thead th {\n",
       "        text-align: right;\n",
       "    }\n",
       "</style>\n",
       "<table border=\"1\" class=\"dataframe\">\n",
       "  <thead>\n",
       "    <tr style=\"text-align: right;\">\n",
       "      <th></th>\n",
       "      <th>ID</th>\n",
       "      <th>Age</th>\n",
       "      <th>Experience</th>\n",
       "      <th>Income</th>\n",
       "      <th>ZIP Code</th>\n",
       "      <th>Family</th>\n",
       "      <th>CCAvg</th>\n",
       "      <th>Education</th>\n",
       "      <th>Mortgage</th>\n",
       "      <th>Personal Loan</th>\n",
       "      <th>Securities Account</th>\n",
       "      <th>CD Account</th>\n",
       "      <th>Online</th>\n",
       "      <th>CreditCard</th>\n",
       "    </tr>\n",
       "  </thead>\n",
       "  <tbody>\n",
       "    <tr>\n",
       "      <th>0</th>\n",
       "      <td>1</td>\n",
       "      <td>25</td>\n",
       "      <td>1</td>\n",
       "      <td>49</td>\n",
       "      <td>91107</td>\n",
       "      <td>4</td>\n",
       "      <td>1.6</td>\n",
       "      <td>1</td>\n",
       "      <td>0</td>\n",
       "      <td>0</td>\n",
       "      <td>1</td>\n",
       "      <td>0</td>\n",
       "      <td>0</td>\n",
       "      <td>0</td>\n",
       "    </tr>\n",
       "    <tr>\n",
       "      <th>1</th>\n",
       "      <td>2</td>\n",
       "      <td>45</td>\n",
       "      <td>19</td>\n",
       "      <td>34</td>\n",
       "      <td>90089</td>\n",
       "      <td>3</td>\n",
       "      <td>1.5</td>\n",
       "      <td>1</td>\n",
       "      <td>0</td>\n",
       "      <td>0</td>\n",
       "      <td>1</td>\n",
       "      <td>0</td>\n",
       "      <td>0</td>\n",
       "      <td>0</td>\n",
       "    </tr>\n",
       "    <tr>\n",
       "      <th>2</th>\n",
       "      <td>3</td>\n",
       "      <td>39</td>\n",
       "      <td>15</td>\n",
       "      <td>11</td>\n",
       "      <td>94720</td>\n",
       "      <td>1</td>\n",
       "      <td>1.0</td>\n",
       "      <td>1</td>\n",
       "      <td>0</td>\n",
       "      <td>0</td>\n",
       "      <td>0</td>\n",
       "      <td>0</td>\n",
       "      <td>0</td>\n",
       "      <td>0</td>\n",
       "    </tr>\n",
       "    <tr>\n",
       "      <th>3</th>\n",
       "      <td>4</td>\n",
       "      <td>35</td>\n",
       "      <td>9</td>\n",
       "      <td>100</td>\n",
       "      <td>94112</td>\n",
       "      <td>1</td>\n",
       "      <td>2.7</td>\n",
       "      <td>2</td>\n",
       "      <td>0</td>\n",
       "      <td>0</td>\n",
       "      <td>0</td>\n",
       "      <td>0</td>\n",
       "      <td>0</td>\n",
       "      <td>0</td>\n",
       "    </tr>\n",
       "    <tr>\n",
       "      <th>4</th>\n",
       "      <td>5</td>\n",
       "      <td>35</td>\n",
       "      <td>8</td>\n",
       "      <td>45</td>\n",
       "      <td>91330</td>\n",
       "      <td>4</td>\n",
       "      <td>1.0</td>\n",
       "      <td>2</td>\n",
       "      <td>0</td>\n",
       "      <td>0</td>\n",
       "      <td>0</td>\n",
       "      <td>0</td>\n",
       "      <td>0</td>\n",
       "      <td>1</td>\n",
       "    </tr>\n",
       "  </tbody>\n",
       "</table>\n",
       "</div>"
      ],
      "text/plain": [
       "   ID  Age  Experience  Income  ZIP Code  Family  CCAvg  Education  Mortgage  \\\n",
       "0   1   25           1      49     91107       4    1.6          1         0   \n",
       "1   2   45          19      34     90089       3    1.5          1         0   \n",
       "2   3   39          15      11     94720       1    1.0          1         0   \n",
       "3   4   35           9     100     94112       1    2.7          2         0   \n",
       "4   5   35           8      45     91330       4    1.0          2         0   \n",
       "\n",
       "   Personal Loan  Securities Account  CD Account  Online  CreditCard  \n",
       "0              0                   1           0       0           0  \n",
       "1              0                   1           0       0           0  \n",
       "2              0                   0           0       0           0  \n",
       "3              0                   0           0       0           0  \n",
       "4              0                   0           0       0           1  "
      ]
     },
     "execution_count": 7,
     "metadata": {},
     "output_type": "execute_result"
    }
   ],
   "source": [
    "df.head()"
   ]
  },
  {
   "cell_type": "code",
   "execution_count": 8,
   "id": "beadb573-daf7-4687-bdda-46e75085b54c",
   "metadata": {
    "tags": []
   },
   "outputs": [
    {
     "data": {
      "text/html": [
       "<div>\n",
       "<style scoped>\n",
       "    .dataframe tbody tr th:only-of-type {\n",
       "        vertical-align: middle;\n",
       "    }\n",
       "\n",
       "    .dataframe tbody tr th {\n",
       "        vertical-align: top;\n",
       "    }\n",
       "\n",
       "    .dataframe thead th {\n",
       "        text-align: right;\n",
       "    }\n",
       "</style>\n",
       "<table border=\"1\" class=\"dataframe\">\n",
       "  <thead>\n",
       "    <tr style=\"text-align: right;\">\n",
       "      <th></th>\n",
       "      <th>ID</th>\n",
       "      <th>Age</th>\n",
       "      <th>Experience</th>\n",
       "      <th>Income</th>\n",
       "      <th>ZIP Code</th>\n",
       "      <th>Family</th>\n",
       "      <th>CCAvg</th>\n",
       "      <th>Education</th>\n",
       "      <th>Mortgage</th>\n",
       "      <th>Personal Loan</th>\n",
       "      <th>Securities Account</th>\n",
       "      <th>CD Account</th>\n",
       "      <th>Online</th>\n",
       "      <th>CreditCard</th>\n",
       "    </tr>\n",
       "  </thead>\n",
       "  <tbody>\n",
       "    <tr>\n",
       "      <th>4995</th>\n",
       "      <td>4996</td>\n",
       "      <td>29</td>\n",
       "      <td>3</td>\n",
       "      <td>40</td>\n",
       "      <td>92697</td>\n",
       "      <td>1</td>\n",
       "      <td>1.9</td>\n",
       "      <td>3</td>\n",
       "      <td>0</td>\n",
       "      <td>0</td>\n",
       "      <td>0</td>\n",
       "      <td>0</td>\n",
       "      <td>1</td>\n",
       "      <td>0</td>\n",
       "    </tr>\n",
       "    <tr>\n",
       "      <th>4996</th>\n",
       "      <td>4997</td>\n",
       "      <td>30</td>\n",
       "      <td>4</td>\n",
       "      <td>15</td>\n",
       "      <td>92037</td>\n",
       "      <td>4</td>\n",
       "      <td>0.4</td>\n",
       "      <td>1</td>\n",
       "      <td>85</td>\n",
       "      <td>0</td>\n",
       "      <td>0</td>\n",
       "      <td>0</td>\n",
       "      <td>1</td>\n",
       "      <td>0</td>\n",
       "    </tr>\n",
       "    <tr>\n",
       "      <th>4997</th>\n",
       "      <td>4998</td>\n",
       "      <td>63</td>\n",
       "      <td>39</td>\n",
       "      <td>24</td>\n",
       "      <td>93023</td>\n",
       "      <td>2</td>\n",
       "      <td>0.3</td>\n",
       "      <td>3</td>\n",
       "      <td>0</td>\n",
       "      <td>0</td>\n",
       "      <td>0</td>\n",
       "      <td>0</td>\n",
       "      <td>0</td>\n",
       "      <td>0</td>\n",
       "    </tr>\n",
       "    <tr>\n",
       "      <th>4998</th>\n",
       "      <td>4999</td>\n",
       "      <td>65</td>\n",
       "      <td>40</td>\n",
       "      <td>49</td>\n",
       "      <td>90034</td>\n",
       "      <td>3</td>\n",
       "      <td>0.5</td>\n",
       "      <td>2</td>\n",
       "      <td>0</td>\n",
       "      <td>0</td>\n",
       "      <td>0</td>\n",
       "      <td>0</td>\n",
       "      <td>1</td>\n",
       "      <td>0</td>\n",
       "    </tr>\n",
       "    <tr>\n",
       "      <th>4999</th>\n",
       "      <td>5000</td>\n",
       "      <td>28</td>\n",
       "      <td>4</td>\n",
       "      <td>83</td>\n",
       "      <td>92612</td>\n",
       "      <td>3</td>\n",
       "      <td>0.8</td>\n",
       "      <td>1</td>\n",
       "      <td>0</td>\n",
       "      <td>0</td>\n",
       "      <td>0</td>\n",
       "      <td>0</td>\n",
       "      <td>1</td>\n",
       "      <td>1</td>\n",
       "    </tr>\n",
       "  </tbody>\n",
       "</table>\n",
       "</div>"
      ],
      "text/plain": [
       "        ID  Age  Experience  Income  ZIP Code  Family  CCAvg  Education  \\\n",
       "4995  4996   29           3      40     92697       1    1.9          3   \n",
       "4996  4997   30           4      15     92037       4    0.4          1   \n",
       "4997  4998   63          39      24     93023       2    0.3          3   \n",
       "4998  4999   65          40      49     90034       3    0.5          2   \n",
       "4999  5000   28           4      83     92612       3    0.8          1   \n",
       "\n",
       "      Mortgage  Personal Loan  Securities Account  CD Account  Online  \\\n",
       "4995         0              0                   0           0       1   \n",
       "4996        85              0                   0           0       1   \n",
       "4997         0              0                   0           0       0   \n",
       "4998         0              0                   0           0       1   \n",
       "4999         0              0                   0           0       1   \n",
       "\n",
       "      CreditCard  \n",
       "4995           0  \n",
       "4996           0  \n",
       "4997           0  \n",
       "4998           0  \n",
       "4999           1  "
      ]
     },
     "execution_count": 8,
     "metadata": {},
     "output_type": "execute_result"
    }
   ],
   "source": [
    "df.tail()"
   ]
  },
  {
   "cell_type": "code",
   "execution_count": 9,
   "id": "1818f3e0-628a-48e1-92c1-4d409e3efbab",
   "metadata": {
    "tags": []
   },
   "outputs": [
    {
     "data": {
      "text/html": [
       "<div>\n",
       "<style scoped>\n",
       "    .dataframe tbody tr th:only-of-type {\n",
       "        vertical-align: middle;\n",
       "    }\n",
       "\n",
       "    .dataframe tbody tr th {\n",
       "        vertical-align: top;\n",
       "    }\n",
       "\n",
       "    .dataframe thead th {\n",
       "        text-align: right;\n",
       "    }\n",
       "</style>\n",
       "<table border=\"1\" class=\"dataframe\">\n",
       "  <thead>\n",
       "    <tr style=\"text-align: right;\">\n",
       "      <th></th>\n",
       "      <th>ID</th>\n",
       "      <th>Age</th>\n",
       "      <th>Experience</th>\n",
       "      <th>Income</th>\n",
       "      <th>ZIP Code</th>\n",
       "      <th>Family</th>\n",
       "      <th>CCAvg</th>\n",
       "      <th>Education</th>\n",
       "      <th>Mortgage</th>\n",
       "      <th>Personal Loan</th>\n",
       "      <th>Securities Account</th>\n",
       "      <th>CD Account</th>\n",
       "      <th>Online</th>\n",
       "      <th>CreditCard</th>\n",
       "    </tr>\n",
       "  </thead>\n",
       "  <tbody>\n",
       "    <tr>\n",
       "      <th>3911</th>\n",
       "      <td>3912</td>\n",
       "      <td>52</td>\n",
       "      <td>26</td>\n",
       "      <td>44</td>\n",
       "      <td>94025</td>\n",
       "      <td>2</td>\n",
       "      <td>0.8</td>\n",
       "      <td>3</td>\n",
       "      <td>148</td>\n",
       "      <td>0</td>\n",
       "      <td>0</td>\n",
       "      <td>0</td>\n",
       "      <td>0</td>\n",
       "      <td>1</td>\n",
       "    </tr>\n",
       "    <tr>\n",
       "      <th>3775</th>\n",
       "      <td>3776</td>\n",
       "      <td>32</td>\n",
       "      <td>6</td>\n",
       "      <td>31</td>\n",
       "      <td>90275</td>\n",
       "      <td>2</td>\n",
       "      <td>2.0</td>\n",
       "      <td>3</td>\n",
       "      <td>0</td>\n",
       "      <td>0</td>\n",
       "      <td>0</td>\n",
       "      <td>0</td>\n",
       "      <td>1</td>\n",
       "      <td>1</td>\n",
       "    </tr>\n",
       "    <tr>\n",
       "      <th>3505</th>\n",
       "      <td>3506</td>\n",
       "      <td>64</td>\n",
       "      <td>39</td>\n",
       "      <td>103</td>\n",
       "      <td>90304</td>\n",
       "      <td>1</td>\n",
       "      <td>0.8</td>\n",
       "      <td>3</td>\n",
       "      <td>0</td>\n",
       "      <td>0</td>\n",
       "      <td>0</td>\n",
       "      <td>0</td>\n",
       "      <td>1</td>\n",
       "      <td>1</td>\n",
       "    </tr>\n",
       "  </tbody>\n",
       "</table>\n",
       "</div>"
      ],
      "text/plain": [
       "        ID  Age  Experience  Income  ZIP Code  Family  CCAvg  Education  \\\n",
       "3911  3912   52          26      44     94025       2    0.8          3   \n",
       "3775  3776   32           6      31     90275       2    2.0          3   \n",
       "3505  3506   64          39     103     90304       1    0.8          3   \n",
       "\n",
       "      Mortgage  Personal Loan  Securities Account  CD Account  Online  \\\n",
       "3911       148              0                   0           0       0   \n",
       "3775         0              0                   0           0       1   \n",
       "3505         0              0                   0           0       1   \n",
       "\n",
       "      CreditCard  \n",
       "3911           1  \n",
       "3775           1  \n",
       "3505           1  "
      ]
     },
     "execution_count": 9,
     "metadata": {},
     "output_type": "execute_result"
    }
   ],
   "source": [
    "df.sample(3)"
   ]
  },
  {
   "cell_type": "markdown",
   "id": "5ae576d4-f196-4862-b395-f15a0a43e670",
   "metadata": {},
   "source": [
    "## 2.2 Structure des nos donnees "
   ]
  },
  {
   "cell_type": "markdown",
   "id": "b935c7b8-f856-4edd-be49-b1785b83e045",
   "metadata": {
    "tags": []
   },
   "source": [
    "La commande df.info() nous permet de s'informer de la structure generale de notre dataset, parmit les informations on a:\n",
    "- Les types des donnees.\n",
    "- Nombres des colonnes.\n",
    "- Nombres des valuers manquants pour chaque colonnes.\n",
    "- Nombre des lignes en total"
   ]
  },
  {
   "cell_type": "code",
   "execution_count": 10,
   "id": "6ab8712e-5c05-44d5-bb1c-20a1ae5da6b3",
   "metadata": {
    "tags": []
   },
   "outputs": [
    {
     "name": "stdout",
     "output_type": "stream",
     "text": [
      "<class 'pandas.core.frame.DataFrame'>\n",
      "RangeIndex: 5000 entries, 0 to 4999\n",
      "Data columns (total 14 columns):\n",
      " #   Column              Non-Null Count  Dtype  \n",
      "---  ------              --------------  -----  \n",
      " 0   ID                  5000 non-null   int64  \n",
      " 1   Age                 5000 non-null   int64  \n",
      " 2   Experience          5000 non-null   int64  \n",
      " 3   Income              5000 non-null   int64  \n",
      " 4   ZIP Code            5000 non-null   int64  \n",
      " 5   Family              5000 non-null   int64  \n",
      " 6   CCAvg               5000 non-null   float64\n",
      " 7   Education           5000 non-null   int64  \n",
      " 8   Mortgage            5000 non-null   int64  \n",
      " 9   Personal Loan       5000 non-null   int64  \n",
      " 10  Securities Account  5000 non-null   int64  \n",
      " 11  CD Account          5000 non-null   int64  \n",
      " 12  Online              5000 non-null   int64  \n",
      " 13  CreditCard          5000 non-null   int64  \n",
      "dtypes: float64(1), int64(13)\n",
      "memory usage: 547.0 KB\n"
     ]
    }
   ],
   "source": [
    "df.info()"
   ]
  },
  {
   "cell_type": "markdown",
   "id": "c1499ec5-be07-44ac-8695-a80eb51f1103",
   "metadata": {},
   "source": [
    "Les remarques les plus importantes depuis cette fonction `info()`\n",
    "- Le DataFrame contient un total de 5000 entrées.\n",
    "- Il y a 14 colonnes au total.\n",
    "- Aucune des colonnes ne contient de valeurs nulles (non-null count est de 5000 pour toutes les colonnes), ce qui signifie qu'il n'y a pas de données manquantes dans le jeu de données.\n",
    "- Les types de données des colonnes sont les suivants :\n",
    "  - Les colonnes ID, Age, Experience, Income, ZIP Code, Family, Mortgage, Personal Loan, Securities Account, CD Account, Online et CreditCard sont de type entier (int64).\n",
    "  - La colonne CCAvg est de type flottant (float64)."
   ]
  },
  {
   "cell_type": "markdown",
   "id": "0ffb7ec7-0383-4c6f-8de9-d95047e8c23a",
   "metadata": {
    "tags": []
   },
   "source": [
    "## 2.3 Donnees manquantes "
   ]
  },
  {
   "cell_type": "markdown",
   "id": "dae5545b-cefc-4fee-9bee-dd7bd5fa02e6",
   "metadata": {},
   "source": [
    "La fonction `isna()` est utilisée pour vérifier chaque élément du DataFrame et renvoie un DataFrame de la même forme, mais avec des valeurs booléennes indiquant True là où les valeurs sont NaN (Not a Number) et False là où les valeurs sont non-NaN.\n",
    "\n",
    "Ensuite, la fonction `sum()` est appliquée à ce DataFrame résultant. Lorsque vous appelez `sum()` sur un DataFrame de valeurs booléennes, chaque valeur True est interprétée comme 1 et chaque valeur False est interprétée comme 0. Ainsi, `sum()` retourne la somme de ces valeurs, indiquant le nombre total de valeurs True pour chaque colonne."
   ]
  },
  {
   "cell_type": "code",
   "execution_count": 11,
   "id": "5cb3334d-d086-4a51-ab5a-f7f1b53d7dce",
   "metadata": {
    "tags": []
   },
   "outputs": [
    {
     "data": {
      "text/plain": [
       "ID                    0\n",
       "Age                   0\n",
       "Experience            0\n",
       "Income                0\n",
       "ZIP Code              0\n",
       "Family                0\n",
       "CCAvg                 0\n",
       "Education             0\n",
       "Mortgage              0\n",
       "Personal Loan         0\n",
       "Securities Account    0\n",
       "CD Account            0\n",
       "Online                0\n",
       "CreditCard            0\n",
       "dtype: int64"
      ]
     },
     "execution_count": 11,
     "metadata": {},
     "output_type": "execute_result"
    }
   ],
   "source": [
    "df.isna().sum()"
   ]
  },
  {
   "cell_type": "markdown",
   "id": "0f7ebaab-3e96-4cdf-b19b-4fba30ca9fa1",
   "metadata": {
    "tags": []
   },
   "source": [
    "La sortie de `df.isna().sum()` indique le nombre de valeurs manquantes (NaN) dans chaque colonne du DataFrame. Dans ce cas précis :\n",
    "\n",
    "- La colonne \"ID\" n'a aucune valeur manquante.\n",
    "- De même, aucune des autres colonnes (`Age`, `Experience`, `Income`, `ZIP Code`, `Family`, `CCAvg`, `Education`, `Mortgage`, `Personal Loan`, `Securities Account`, `CD Account`, `Online`, `CreditCard`) n'a de valeurs manquantes.\n",
    "\n",
    "Cela suggère que le jeu de données est complet, sans aucune valeur manquante dans toutes les colonnes."
   ]
  },
  {
   "cell_type": "markdown",
   "id": "25371bb5-badd-40f0-80f9-be763d74f2ac",
   "metadata": {
    "tags": []
   },
   "source": [
    "## 2.4 Donnees dupliquer"
   ]
  },
  {
   "cell_type": "markdown",
   "id": "bca912ad-1ccd-4e8e-adc6-7ba239267995",
   "metadata": {
    "tags": []
   },
   "source": [
    "La commande df.duplicated().sum() permet de calculer le nombre des entrees dupliquer dans notre dataset."
   ]
  },
  {
   "cell_type": "code",
   "execution_count": 12,
   "id": "b347dfa0-c180-4f30-ad89-4d4ddbb41e6e",
   "metadata": {
    "tags": []
   },
   "outputs": [
    {
     "data": {
      "text/plain": [
       "0"
      ]
     },
     "execution_count": 12,
     "metadata": {},
     "output_type": "execute_result"
    }
   ],
   "source": [
    "df.duplicated().sum()"
   ]
  },
  {
   "cell_type": "markdown",
   "id": "1261ab35-2266-4a87-aa78-592ff0b742af",
   "metadata": {},
   "source": [
    "    Cela suggere qu'on a aucun observation dupliquer dans notre dataset"
   ]
  },
  {
   "cell_type": "markdown",
   "id": "33e46bad-e134-4fbe-9a19-e74ca584c687",
   "metadata": {
    "tags": []
   },
   "source": [
    "# 3. Visualisation"
   ]
  },
  {
   "cell_type": "markdown",
   "id": "fc5fea99-2243-42de-a783-403fd3404861",
   "metadata": {},
   "source": [
    "La visualisation des données est cruciale pour comprendre la distribution et les relations entre les variables. Elle permet d'identifier des tendances et des corrélations, souvent invisibles dans les données brutes. La communication des découvertes est également facilitée par des graphiques et des diagrammes, permettant des décisions éclairées et des stratégies fondées sur une compréhension approfondie des données.\n"
   ]
  },
  {
   "cell_type": "markdown",
   "id": "bb58358c-9765-491d-8c5d-83f7b50f0f12",
   "metadata": {
    "tags": []
   },
   "source": [
    "## 3.1 Répartition des tranches d'âge"
   ]
  },
  {
   "cell_type": "code",
   "execution_count": 37,
   "id": "833f5957-8655-470c-aa2c-159131bc21dd",
   "metadata": {
    "tags": []
   },
   "outputs": [],
   "source": [
    "# Creation d'une fonctions pour creer des tranches des ages\n",
    "def age_tranche(df, decalage=10):\n",
    "    '''\n",
    "    Les tranches sont réparties selon un décalage de 10 ans par défaut\n",
    "    '''\n",
    "    # Calcul du nombre de tranches en fonction de l'âge maximal dans le DataFrame\n",
    "    nb_tranches = int(np.ceil(df['Age'].max() / decalage))\n",
    "    \n",
    "    # Création d'un tableau d'entiers pour stocker le nombre d'âges dans chaque tranche\n",
    "    tranches = np.zeros(nb_tranches, dtype=int)\n",
    "    \n",
    "    # Calcul du nombre d'âges dans chaque tranche\n",
    "    for age in df['Age']:\n",
    "        tranche_index = int(age / decalage)  # Calcul de l'indice de la tranche\n",
    "        tranches[tranche_index] += 1         # Incrémentation du nombre d'âges dans la tranche\n",
    "    \n",
    "    return tranches"
   ]
  },
  {
   "cell_type": "code",
   "execution_count": null,
   "id": "64c42fb2-fc57-4101-9b0e-7f24bc345125",
   "metadata": {
    "tags": []
   },
   "outputs": [],
   "source": []
  },
  {
   "cell_type": "code",
   "execution_count": 38,
   "id": "a22e46b3-5984-4f7e-a3e0-627b1d9188af",
   "metadata": {
    "tags": []
   },
   "outputs": [
    {
     "data": {
      "image/png": "[encoded data removed]",
      "text/plain": [
       "<Figure size 1500x500 with 1 Axes>"
      ]
     },
     "metadata": {},
     "output_type": "display_data"
    }
   ],
   "source": [
    "ages = age_tranche(df)\n",
    "\n",
    "# Tracé de l'histogramme\n",
    "plt.figure(figsize=(15, 5))\n",
    "plt.bar(range(len(ages)), ages)\n",
    "\n",
    "plt.xlabel('Tranches d\\'âge')\n",
    "plt.ylabel('Nombre d\\'individus')\n",
    "\n",
    "plt.xticks(range(len(ages)), [f'{i*10}-{(i+1)*10-1}' for i in range(len(ages))])\n",
    "\n",
    "# Affichage du graphique\n",
    "plt.show()\n"
   ]
  },
  {
   "cell_type": "code",
   "execution_count": 23,
   "id": "1425e2ed-d7cf-4f3a-b99d-59d46db70775",
   "metadata": {},
   "outputs": [
    {
     "data": {
      "image/png": "[encoded data removed]",
      "text/plain": [
       "<Figure size 1500x500 with 1 Axes>"
      ]
     },
     "metadata": {},
     "output_type": "display_data"
    }
   ],
   "source": [
    "plt.figure(figsize = (15,5) ) \n",
    "\n",
    "sns.histplot(data = df , x = 'Age', kde=True)\n",
    "plt.xticks(range(20,71,5))\n",
    "plt.show()"
   ]
  },
  {
   "cell_type": "markdown",
   "id": "6c5dabda-3633-4d12-b203-4966f4c69693",
   "metadata": {
    "tags": []
   },
   "source": [
    "<i>Remarques</i>\n",
    "1. Les deux premiers groupes d'âge ne contiennent aucun individu (compte de 0). Cela suggère qu'il n'y a aucun individu dans le jeu de données dans la plage d'âge couverte par ces groupes.\n",
    "\n",
    "2. Les groupes d'âge avec les comptes les plus élevés sont ceux correspondant aux âges de 20 à 29 ans, 30 à 39 ans et 40 à 49 ans. Cela indique que le jeu de données contient un nombre significatif d'individus dans ces tranches d'âge.\n",
    "\n",
    "3. Les comptes diminuent progressivement à mesure que l'âge augmente au-delà de 40-49 ans. Cela est attendu car les gens ont tendance à prendre leur retraite ou à être moins représentés dans les groupes d'âge plus avancés.\n",
    "\n",
    "4. On observe une légère augmentation à nouveau dans le compte pour le dernier groupe d'âge (70 à 79 ans). Cela pourrait être dû à des individus qui vivent plus longtemps ou qui restent actifs à un âge avancé.\n",
    "\n",
    "5. Dans l'ensemble, la distribution semble être inclinée vers les groupes d'âge plus jeunes, avec une diminution des comptes pour les groupes d'âge plus âgés, ce qui est une tendance démographique courante dans de nombreuses populations."
   ]
  },
  {
   "cell_type": "markdown",
   "id": "2218df86-cfeb-4386-9813-8e18133b6452",
   "metadata": {
    "tags": []
   },
   "source": [
    "## 3.2 Distribution des clients selon leur revenu"
   ]
  },
  {
   "cell_type": "code",
   "execution_count": null,
   "id": "85be8e49-1224-4f20-9a59-f16f455df1c6",
   "metadata": {
    "tags": []
   },
   "outputs": [],
   "source": []
  },
  {
   "cell_type": "code",
   "execution_count": 32,
   "id": "860a6a91-e43a-4850-89ca-0aa2a425a2b1",
   "metadata": {},
   "outputs": [],
   "source": [
    "# determination des tranches des revenu\n",
    "def income_tranche(df, decalage = 10):\n",
    "    nb_tranches = int( np.ceil( df['Income'].max() / decalage) )\n",
    "    tranches = np.zeros(nb_tranches , dtype = int)\n",
    "    for income in df['Income']:\n",
    "        tranche_index = int( income / decalage ) \n",
    "        tranches[tranche_index] += 1\n",
    "    return tranches"
   ]
  },
  {
   "cell_type": "code",
   "execution_count": 124,
   "id": "ceaabcb2-47f3-436c-8602-856de1fa5b46",
   "metadata": {
    "tags": []
   },
   "outputs": [
    {
     "data": {
      "image/png": "[encoded data removed]",
      "text/plain": [
       "<Figure size 1500x500 with 1 Axes>"
      ]
     },
     "metadata": {},
     "output_type": "display_data"
    }
   ],
   "source": [
    "income = income_tranche(df)\n",
    "\n",
    "income_df = pd.DataFrame({'count': income})\n",
    "\n",
    "plt.figure(figsize = (15,5) )\n",
    "\n",
    "sns.barplot(data = income_df, x =income_df.index , y = 'count', palette = palettes[13])\n",
    "\n",
    "plt.yscale('linear')\n",
    "\n",
    "plt.show()"
   ]
  },
  {
   "cell_type": "code",
   "execution_count": null,
   "id": "a909d91a-97b5-47a6-961b-c3161cacdfba",
   "metadata": {
    "tags": []
   },
   "outputs": [],
   "source": []
  },
  {
   "cell_type": "code",
   "execution_count": 138,
   "id": "4e7f1591-0436-4fdb-8732-f23c006f3aa4",
   "metadata": {
    "tags": []
   },
   "outputs": [
    {
     "data": {
      "image/png": "[encoded data removed]",
      "text/plain": [
       "<Figure size 1500x500 with 1 Axes>"
      ]
     },
     "metadata": {},
     "output_type": "display_data"
    }
   ],
   "source": [
    "plt.figure(figsize = (15,5))\n",
    "\n",
    "sns.histplot(data = df , x = 'Income', kde = True, color = colors[0])\n",
    "plt.xticks(range(0,231,10))\n",
    "plt.show()"
   ]
  },
  {
   "cell_type": "markdown",
   "id": "e94a70a1-1c65-4e07-9296-85909d8068da",
   "metadata": {},
   "source": [
    "<i>Remarques : </i>\n",
    "    En analysant la distribution des revenus des clients avec un décalage de 10 (revenu annuel du client en milliers de dollars), voici quelques observations :\n",
    "\n",
    "1. Le nombre le plus élevé de clients se situe dans les tranches de revenu de 40k à 50k, 50k à 60k et 60k à 70k. Cela suggère que la majorité des clients ont un revenu annuel compris entre 40 000 et 70 000 dollars.\n",
    "\n",
    "2. Le nombre de clients diminue progressivement à mesure que le revenu augmente au-delà de 70k. Cela indique qu'il y a moins de clients avec des revenus plus élevés.\n",
    "\n",
    "3. Il y a très peu de clients dans les tranches de revenu les plus élevées, comme ceux au-dessus de 90k. Cela suggère qu'il y a une proportion relativement faible de clients à revenu élevé dans l'échantillon de données.\n",
    "\n",
    "4. Il y a une tranche de revenu avec seulement 17 clients et une autre avec seulement 1 client, ce qui indique des groupes de revenus moins représentés dans l'échantillon.\n",
    "\n",
    "5. Dans l'ensemble, la distribution des revenus semble être biaisée vers des revenus modérés à moyens, avec relativement peu de clients dans les tranches de revenus les plus élevées. Cela peut avoir des implications pour la segmentation de la clientèle et les stratégies de marketing ciblées."
   ]
  },
  {
   "cell_type": "code",
   "execution_count": null,
   "id": "66db7c23-026b-4c47-9c92-61cb4f1a2fad",
   "metadata": {
    "tags": []
   },
   "outputs": [],
   "source": []
  },
  {
   "cell_type": "code",
   "execution_count": null,
   "id": "a7e460ae-b031-49bf-8aa2-e33e7068f23f",
   "metadata": {},
   "outputs": [],
   "source": []
  }
 ],
 "metadata": {
  "kernelspec": {
   "display_name": "Python 3 (ipykernel)",
   "language": "python",
   "name": "python3"
  },
  "language_info": {
   "codemirror_mode": {
    "name": "ipython",
    "version": 3
   },
   "file_extension": ".py",
   "mimetype": "text/x-python",
   "name": "python",
   "nbconvert_exporter": "python",
   "pygments_lexer": "ipython3",
   "version": "3.11.5"
  }
 },
 "nbformat": 4,
 "nbformat_minor": 5
}

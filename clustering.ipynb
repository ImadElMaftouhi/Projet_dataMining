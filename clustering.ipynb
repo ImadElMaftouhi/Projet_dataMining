{
 "cells": [
  {
   "cell_type": "code",
   "execution_count": 1,
   "id": "c4587163-bec8-46be-bfc5-347a542835d5",
   "metadata": {
    "tags": []
   },
   "outputs": [],
   "source": [
    "import pandas as pd\n",
    "import numpy as np\n",
    "import seaborn as sns\n",
    "import matplotlib.pyplot as plt\n",
    "import warnings\n",
    "warnings.filterwarnings('ignore')"
   ]
  },
  {
   "cell_type": "code",
   "execution_count": 2,
   "id": "997350bd-09cc-41d8-9a14-9297b9ebdb09",
   "metadata": {
    "tags": []
   },
   "outputs": [],
   "source": [
    "df = pd.read_csv('bank_personal_loan.csv', delimiter=';')"
   ]
  },
  {
   "cell_type": "code",
   "execution_count": 3,
   "id": "64629fb6-c245-4b93-b892-1e7c5f4ea965",
   "metadata": {
    "tags": []
   },
   "outputs": [
    {
     "name": "stdout",
     "output_type": "stream",
     "text": [
      "<class 'pandas.core.frame.DataFrame'>\n",
      "RangeIndex: 5000 entries, 0 to 4999\n",
      "Data columns (total 14 columns):\n",
      " #   Column              Non-Null Count  Dtype  \n",
      "---  ------              --------------  -----  \n",
      " 0   ID                  5000 non-null   int64  \n",
      " 1   Age                 5000 non-null   int64  \n",
      " 2   Experience          5000 non-null   int64  \n",
      " 3   Income              5000 non-null   int64  \n",
      " 4   ZIP Code            5000 non-null   int64  \n",
      " 5   Family              5000 non-null   int64  \n",
      " 6   CCAvg               5000 non-null   float64\n",
      " 7   Education           5000 non-null   int64  \n",
      " 8   Mortgage            5000 non-null   int64  \n",
      " 9   Personal Loan       5000 non-null   int64  \n",
      " 10  Securities Account  5000 non-null   int64  \n",
      " 11  CD Account          5000 non-null   int64  \n",
      " 12  Online              5000 non-null   int64  \n",
      " 13  CreditCard          5000 non-null   int64  \n",
      "dtypes: float64(1), int64(13)\n",
      "memory usage: 547.0 KB\n"
     ]
    }
   ],
   "source": [
    "df.info()"
   ]
  },
  {
   "cell_type": "raw",
   "id": "648db846-affe-4609-b1cf-804da469dd71",
   "metadata": {},
   "source": [
    "ID\tCustomer ID\n",
    "Age\tCustomer's age in completed years\n",
    "Experience\t#years of professional experience\n",
    "Income\tAnnual income of the customer ($000)\n",
    "ZIPCode\tHome Address ZIP code.\n",
    "Family\tFamily size of the customer\n",
    "CCAvg\tAvg. spending on credit cards per month ($000)\n",
    "Education\tEducation Level. 1: Undergrad; 2: Graduate; 3: Advanced/Professional\n",
    "Mortgage\tValue of house mortgage if any. ($000)\n",
    "Personal Loan\tDid this customer accept the personal loan offered in the last campaign?\n",
    "Securities Account\tDoes the customer have a securities account with the bank?\n",
    "CD Account\tDoes the customer have a certificate of deposit (CD) account with the bank?\n",
    "Online\tDoes the customer use internet banking facilities?\n",
    "CreditCard\tDoes the customer use a credit card issued by UniversalBank?"
   ]
  },
  {
   "cell_type": "code",
   "execution_count": null,
   "id": "afcfadf0-cc2d-47dd-8793-6a1255b915c1",
   "metadata": {},
   "outputs": [],
   "source": []
  }
 ],
 "metadata": {
  "kernelspec": {
   "display_name": "Python 3 (ipykernel)",
   "language": "python",
   "name": "python3"
  },
  "language_info": {
   "codemirror_mode": {
    "name": "ipython",
    "version": 3
   },
   "file_extension": ".py",
   "mimetype": "text/x-python",
   "name": "python",
   "nbconvert_exporter": "python",
   "pygments_lexer": "ipython3",
   "version": "3.11.5"
  }
 },
 "nbformat": 4,
 "nbformat_minor": 5
}
